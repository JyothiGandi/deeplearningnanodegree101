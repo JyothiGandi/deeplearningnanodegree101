{
 "cells": [
  {
   "cell_type": "code",
   "execution_count": 10,
   "id": "7450c530-4090-4a84-9694-089723ff79f4",
   "metadata": {},
   "outputs": [
    {
     "data": {
      "text/plain": [
       "[tensor(1), tensor(2)]"
      ]
     },
     "execution_count": 10,
     "metadata": {},
     "output_type": "execute_result"
    }
   ],
   "source": [
    "import torch\n",
    "x = torch.tensor([1, 2])\n",
    "[p.sum() for p in x]"
   ]
  },
  {
   "cell_type": "code",
   "execution_count": null,
   "id": "789aabc7-2d51-44bd-b60f-4550ccbc0564",
   "metadata": {},
   "outputs": [],
   "source": []
  }
 ],
 "metadata": {
  "kernelspec": {
   "display_name": "Python 3 (ipykernel)",
   "language": "python",
   "name": "python3"
  },
  "language_info": {
   "codemirror_mode": {
    "name": "ipython",
    "version": 3
   },
   "file_extension": ".py",
   "mimetype": "text/x-python",
   "name": "python",
   "nbconvert_exporter": "python",
   "pygments_lexer": "ipython3",
   "version": "3.8.5"
  }
 },
 "nbformat": 4,
 "nbformat_minor": 5
}
