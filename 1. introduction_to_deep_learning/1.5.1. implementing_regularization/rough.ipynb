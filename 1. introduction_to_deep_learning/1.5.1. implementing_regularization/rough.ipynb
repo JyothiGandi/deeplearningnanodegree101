{
 "cells": [
  {
   "cell_type": "code",
   "execution_count": 1,
   "id": "b98806da-4a29-4645-9c16-09bc620e805a",
   "metadata": {},
   "outputs": [],
   "source": [
    "import numpy as np"
   ]
  },
  {
   "cell_type": "code",
   "execution_count": 2,
   "id": "ffa8baef-611d-484e-a5b1-684561c915ee",
   "metadata": {},
   "outputs": [],
   "source": [
    "x = np.array([1, -2, 3, -4])"
   ]
  },
  {
   "cell_type": "code",
   "execution_count": 3,
   "id": "c0611d63-5264-4bc2-9f85-129a8e38f8a7",
   "metadata": {},
   "outputs": [
    {
     "data": {
      "text/plain": [
       "array([1, 2, 3, 4])"
      ]
     },
     "execution_count": 3,
     "metadata": {},
     "output_type": "execute_result"
    }
   ],
   "source": [
    "np.absolute(x)"
   ]
  },
  {
   "cell_type": "code",
   "execution_count": 4,
   "id": "328d7d17-6e3c-49d3-95bf-f900d042d18a",
   "metadata": {},
   "outputs": [
    {
     "data": {
      "text/plain": [
       "-2"
      ]
     },
     "execution_count": 4,
     "metadata": {},
     "output_type": "execute_result"
    }
   ],
   "source": [
    "np.sum(x)"
   ]
  },
  {
   "cell_type": "code",
   "execution_count": 5,
   "id": "b7c4743c-0c27-4aaa-a471-f5534d36dbf4",
   "metadata": {},
   "outputs": [
    {
     "data": {
      "text/plain": [
       "10"
      ]
     },
     "execution_count": 5,
     "metadata": {},
     "output_type": "execute_result"
    }
   ],
   "source": [
    "np.sum(np.absolute(x))"
   ]
  },
  {
   "cell_type": "code",
   "execution_count": 6,
   "id": "f8708f26-81ba-4008-a6aa-0d69854653e3",
   "metadata": {},
   "outputs": [
    {
     "data": {
      "text/plain": [
       "array([ 1,  4,  9, 16])"
      ]
     },
     "execution_count": 6,
     "metadata": {},
     "output_type": "execute_result"
    }
   ],
   "source": [
    "np.square(x)"
   ]
  },
  {
   "cell_type": "code",
   "execution_count": 7,
   "id": "859c8c57-29d9-4e73-90e9-87a51e52e0ce",
   "metadata": {},
   "outputs": [
    {
     "data": {
      "text/plain": [
       "array([ 1, -2,  3, -4])"
      ]
     },
     "execution_count": 7,
     "metadata": {},
     "output_type": "execute_result"
    }
   ],
   "source": [
    "x"
   ]
  },
  {
   "cell_type": "code",
   "execution_count": 8,
   "id": "09295840-1d43-4f77-afe1-9eae273b6310",
   "metadata": {},
   "outputs": [
    {
     "data": {
      "text/plain": [
       "array([ 1, -2,  3, -4])"
      ]
     },
     "execution_count": 8,
     "metadata": {},
     "output_type": "execute_result"
    }
   ],
   "source": [
    "x.T"
   ]
  },
  {
   "cell_type": "code",
   "execution_count": 9,
   "id": "1fbd3417-0b7f-40db-b3f7-867d860f38b4",
   "metadata": {},
   "outputs": [
    {
     "data": {
      "text/plain": [
       "30"
      ]
     },
     "execution_count": 9,
     "metadata": {},
     "output_type": "execute_result"
    }
   ],
   "source": [
    "np.dot(x, x)"
   ]
  },
  {
   "cell_type": "code",
   "execution_count": 10,
   "id": "affda80f-8729-4946-ae5e-681e656f7252",
   "metadata": {},
   "outputs": [
    {
     "data": {
      "text/plain": [
       "30"
      ]
     },
     "execution_count": 10,
     "metadata": {},
     "output_type": "execute_result"
    }
   ],
   "source": [
    "np.dot(x, x.T)"
   ]
  },
  {
   "cell_type": "code",
   "execution_count": 11,
   "id": "13596cf5-c908-43aa-bb47-2d0c3612ebad",
   "metadata": {},
   "outputs": [
    {
     "data": {
      "text/plain": [
       "30"
      ]
     },
     "execution_count": 11,
     "metadata": {},
     "output_type": "execute_result"
    }
   ],
   "source": [
    "np.sum(np.square(x))"
   ]
  },
  {
   "cell_type": "code",
   "execution_count": 14,
   "id": "f2117ab2-1a57-462d-bc49-21d15d848563",
   "metadata": {},
   "outputs": [],
   "source": [
    "import torch\n",
    "from torch import nn"
   ]
  },
  {
   "cell_type": "code",
   "execution_count": 39,
   "id": "c1e1156b-e7c8-43b5-a357-283d29a9f898",
   "metadata": {},
   "outputs": [
    {
     "data": {
      "text/plain": [
       "tensor([[-0.2243, -0.5358],\n",
       "        [ 2.4565, -0.8889],\n",
       "        [ 0.6350,  1.0165]])"
      ]
     },
     "execution_count": 39,
     "metadata": {},
     "output_type": "execute_result"
    }
   ],
   "source": [
    "input = torch.randn(3, 2)\n",
    "input"
   ]
  },
  {
   "cell_type": "code",
   "execution_count": 40,
   "id": "ca544f50-45ea-4ab5-bb8d-d06bb6e31263",
   "metadata": {},
   "outputs": [
    {
     "name": "stdout",
     "output_type": "stream",
     "text": [
      "torch.Size([3, 2])\n"
     ]
    }
   ],
   "source": [
    "print(input.shape)\n",
    "m = nn.Linear(2, 2)"
   ]
  },
  {
   "cell_type": "code",
   "execution_count": 41,
   "id": "95924c05-2d01-4abf-a4a7-4d162c51acec",
   "metadata": {},
   "outputs": [
    {
     "data": {
      "text/plain": [
       "tensor([[ 0.1813,  0.9289],\n",
       "        [ 0.4088,  0.6526],\n",
       "        [ 0.7442, -0.1632]], grad_fn=<AddmmBackward0>)"
      ]
     },
     "execution_count": 41,
     "metadata": {},
     "output_type": "execute_result"
    }
   ],
   "source": [
    "output = m(input)\n",
    "output"
   ]
  },
  {
   "cell_type": "code",
   "execution_count": 42,
   "id": "a0136846-d04d-46cc-9b4f-77ef96de4268",
   "metadata": {},
   "outputs": [
    {
     "data": {
      "text/plain": [
       "Parameter containing:\n",
       "tensor([[ 0.1236,  0.2942],\n",
       "        [-0.1824, -0.6026]], requires_grad=True)"
      ]
     },
     "execution_count": 42,
     "metadata": {},
     "output_type": "execute_result"
    }
   ],
   "source": [
    "m.weight"
   ]
  },
  {
   "cell_type": "code",
   "execution_count": 43,
   "id": "37c34dff-2153-436d-8b1f-c1a349f08751",
   "metadata": {},
   "outputs": [
    {
     "data": {
      "text/plain": [
       "Parameter containing:\n",
       "tensor([0.3667, 0.5651], requires_grad=True)"
      ]
     },
     "execution_count": 43,
     "metadata": {},
     "output_type": "execute_result"
    }
   ],
   "source": [
    "m.bias"
   ]
  },
  {
   "cell_type": "code",
   "execution_count": 53,
   "id": "85bc179d-60d4-4aa2-b0fe-b26059b619ff",
   "metadata": {},
   "outputs": [
    {
     "data": {
      "text/plain": [
       "tensor([[ 0.3841, -0.2514],\n",
       "        [ 0.3810,  0.7560],\n",
       "        [-0.7477,  0.5639]], grad_fn=<MmBackward0>)"
      ]
     },
     "execution_count": 53,
     "metadata": {},
     "output_type": "execute_result"
    }
   ],
   "source": [
    "m_b = nn.Linear(2, 2, bias=False)\n",
    "output_b = m_b(input)\n",
    "output_b"
   ]
  },
  {
   "cell_type": "code",
   "execution_count": 54,
   "id": "4930daee-fc57-4955-bf8e-974de9f5e108",
   "metadata": {},
   "outputs": [
    {
     "data": {
      "text/plain": [
       "Parameter containing:\n",
       "tensor([[-0.0906, -0.6790],\n",
       "        [ 0.4148,  0.2957]], requires_grad=True)"
      ]
     },
     "execution_count": 54,
     "metadata": {},
     "output_type": "execute_result"
    }
   ],
   "source": [
    "m_b.weight"
   ]
  },
  {
   "cell_type": "code",
   "execution_count": 55,
   "id": "5f7f074b-390f-451d-aad1-a76000bfa2ba",
   "metadata": {},
   "outputs": [],
   "source": [
    "m_b.bias"
   ]
  },
  {
   "cell_type": "code",
   "execution_count": 56,
   "id": "86f7e063-8752-4056-8cef-ddd05434dac6",
   "metadata": {},
   "outputs": [
    {
     "data": {
      "text/plain": [
       "tensor([[ 0.3841, -0.2514],\n",
       "        [ 0.3810,  0.7560],\n",
       "        [-0.7477,  0.5639]], grad_fn=<MmBackward0>)"
      ]
     },
     "execution_count": 56,
     "metadata": {},
     "output_type": "execute_result"
    }
   ],
   "source": [
    "input.matmul(m_b.weight.t())"
   ]
  },
  {
   "cell_type": "code",
   "execution_count": 57,
   "id": "bb6b94e0-3499-4aa3-ab64-640dd2d905f1",
   "metadata": {},
   "outputs": [
    {
     "data": {
      "text/plain": [
       "tensor([[-0.2243, -0.5358],\n",
       "        [ 2.4565, -0.8889],\n",
       "        [ 0.6350,  1.0165]])"
      ]
     },
     "execution_count": 57,
     "metadata": {},
     "output_type": "execute_result"
    }
   ],
   "source": [
    "input"
   ]
  },
  {
   "cell_type": "code",
   "execution_count": 66,
   "id": "23a1e1c5-2713-4cfb-bacb-82b8cc56fc35",
   "metadata": {},
   "outputs": [
    {
     "name": "stdout",
     "output_type": "stream",
     "text": [
      "0.3841297800000001\n",
      "-0.2514757\n"
     ]
    }
   ],
   "source": [
    "print((-0.2243 * -0.0906) + (-0.5358 * -0.6790))\n",
    "print((-0.2243 * 0.4148) + (-0.5358 * 0.2957))"
   ]
  },
  {
   "cell_type": "code",
   "execution_count": 63,
   "id": "cfcfc1b4-a1be-4326-a7e4-0af13f03147b",
   "metadata": {},
   "outputs": [
    {
     "data": {
      "text/plain": [
       "tensor([[15,  9],\n",
       "        [15,  9],\n",
       "        [15,  9]])"
      ]
     },
     "execution_count": 63,
     "metadata": {},
     "output_type": "execute_result"
    }
   ],
   "source": [
    "p = torch.tensor([[1, 2], [1, 2], [1, 2]])\n",
    "q = torch.tensor([[5, 5], [3, 3]])\n",
    "p.matmul(q.t())"
   ]
  },
  {
   "cell_type": "code",
   "execution_count": 64,
   "id": "6e9846e5-1216-460c-99e8-f89172a62faa",
   "metadata": {},
   "outputs": [
    {
     "name": "stdout",
     "output_type": "stream",
     "text": [
      "tensor([[5, 5],\n",
      "        [3, 3]])\n",
      "tensor([[5, 3],\n",
      "        [5, 3]])\n"
     ]
    }
   ],
   "source": [
    "print(q)\n",
    "print(q.t())"
   ]
  },
  {
   "cell_type": "code",
   "execution_count": 75,
   "id": "388214ff-be13-4399-a11e-faebe1a03286",
   "metadata": {},
   "outputs": [
    {
     "data": {
      "text/plain": [
       "Parameter containing:\n",
       "tensor([[1., 1.],\n",
       "        [1., 1.]], requires_grad=True)"
      ]
     },
     "execution_count": 75,
     "metadata": {},
     "output_type": "execute_result"
    }
   ],
   "source": [
    "j = nn.Parameter(torch.ones_like(m_b.weight))\n",
    "j"
   ]
  },
  {
   "cell_type": "code",
   "execution_count": 85,
   "id": "04879e52-a3eb-4d24-837c-6120573f875a",
   "metadata": {},
   "outputs": [
    {
     "name": "stdout",
     "output_type": "stream",
     "text": [
      "[tensor(1), tensor(2), tensor(3)]\n"
     ]
    }
   ],
   "source": [
    "k = torch.tensor([1, 2, 3])\n",
    "l = [p.sum() for p in k]\n",
    "print(l)"
   ]
  },
  {
   "cell_type": "code",
   "execution_count": null,
   "id": "19cdffe9-7ba6-42d1-b59b-772cfa68f2ce",
   "metadata": {},
   "outputs": [],
   "source": []
  }
 ],
 "metadata": {
  "kernelspec": {
   "display_name": "Python 3 (ipykernel)",
   "language": "python",
   "name": "python3"
  },
  "language_info": {
   "codemirror_mode": {
    "name": "ipython",
    "version": 3
   },
   "file_extension": ".py",
   "mimetype": "text/x-python",
   "name": "python",
   "nbconvert_exporter": "python",
   "pygments_lexer": "ipython3",
   "version": "3.8.5"
  }
 },
 "nbformat": 4,
 "nbformat_minor": 5
}
