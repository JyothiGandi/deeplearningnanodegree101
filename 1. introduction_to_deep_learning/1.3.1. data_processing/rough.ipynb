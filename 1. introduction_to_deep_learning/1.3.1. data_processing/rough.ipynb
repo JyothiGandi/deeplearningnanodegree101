{
 "cells": [
  {
   "cell_type": "code",
   "execution_count": 2,
   "id": "d794c6fc-d211-4c46-8bc9-de34f3c419f9",
   "metadata": {},
   "outputs": [],
   "source": [
    "import torch"
   ]
  },
  {
   "cell_type": "code",
   "execution_count": 3,
   "id": "8b0511da-75da-4cc8-ab21-fe37fa26a266",
   "metadata": {},
   "outputs": [
    {
     "data": {
      "text/plain": [
       "tensor([[0., 0., 0.],\n",
       "        [0., 0., 0.],\n",
       "        [0., 0., 0.]])"
      ]
     },
     "execution_count": 3,
     "metadata": {},
     "output_type": "execute_result"
    }
   ],
   "source": [
    "torch.zeros(3, 3)"
   ]
  },
  {
   "cell_type": "code",
   "execution_count": 4,
   "id": "921cbbf0-fa8d-49c1-8094-bcc36b509a77",
   "metadata": {},
   "outputs": [
    {
     "data": {
      "text/plain": [
       "tensor([[[[0.3174, 0.7966]],\n",
       "\n",
       "         [[0.4164, 0.0921]],\n",
       "\n",
       "         [[0.6687, 0.7334]],\n",
       "\n",
       "         [[0.8210, 0.8660]]],\n",
       "\n",
       "\n",
       "        [[[0.7449, 0.5753]],\n",
       "\n",
       "         [[0.7955, 0.8204]],\n",
       "\n",
       "         [[0.8142, 0.7669]],\n",
       "\n",
       "         [[0.3254, 0.6043]]],\n",
       "\n",
       "\n",
       "        [[[0.7238, 0.2828]],\n",
       "\n",
       "         [[0.0938, 0.1449]],\n",
       "\n",
       "         [[0.2176, 0.1909]],\n",
       "\n",
       "         [[0.7455, 0.1081]]]])"
      ]
     },
     "execution_count": 4,
     "metadata": {},
     "output_type": "execute_result"
    }
   ],
   "source": [
    "torch.rand(3, 4, 1, 2)"
   ]
  },
  {
   "cell_type": "code",
   "execution_count": 23,
   "id": "b13e125c-6a0e-4e74-93ea-26d984438c06",
   "metadata": {},
   "outputs": [
    {
     "data": {
      "text/plain": [
       "tensor([[0.5000, 0.5000, 0.5000, 0.5000],\n",
       "        [0.0000, 0.5000, 0.5000, 0.5000],\n",
       "        [0.0000, 0.0000, 0.5000, 0.5000],\n",
       "        [0.0000, 0.0000, 0.0000, 0.5000]], dtype=torch.float16)"
      ]
     },
     "execution_count": 23,
     "metadata": {},
     "output_type": "execute_result"
    }
   ],
   "source": [
    "torch.triu(torch.ones(4, 4, dtype=torch.float16) * .5)"
   ]
  },
  {
   "cell_type": "code",
   "execution_count": 9,
   "id": "63f07c54-af69-4f38-8525-d9cf025f385c",
   "metadata": {},
   "outputs": [
    {
     "data": {
      "text/plain": [
       "tensor([[0.5000, 0.5000, 0.5000, 0.5000],\n",
       "        [0.5000, 0.5000, 0.5000, 0.5000],\n",
       "        [0.5000, 0.5000, 0.5000, 0.5000],\n",
       "        [0.5000, 0.5000, 0.5000, 0.5000]])"
      ]
     },
     "execution_count": 9,
     "metadata": {},
     "output_type": "execute_result"
    }
   ],
   "source": [
    "torch.ones(4, 4) * 0.5"
   ]
  },
  {
   "cell_type": "code",
   "execution_count": 19,
   "id": "ffd7dcba-0b4c-4a8a-ab90-6fdd85eb0d9a",
   "metadata": {},
   "outputs": [
    {
     "data": {
      "text/plain": [
       "torch.float16"
      ]
     },
     "execution_count": 19,
     "metadata": {},
     "output_type": "execute_result"
    }
   ],
   "source": [
    "x.dtype"
   ]
  },
  {
   "cell_type": "code",
   "execution_count": 24,
   "id": "e8bf01e9-333c-4693-b7a7-93188f78e161",
   "metadata": {},
   "outputs": [
    {
     "data": {
      "text/plain": [
       "tuple"
      ]
     },
     "execution_count": 24,
     "metadata": {},
     "output_type": "execute_result"
    }
   ],
   "source": [
    "classes = ('plane', 'car', 'bird', 'cat', 'deer', 'dog', 'frog', 'horse', 'ship', 'truck')\n",
    "type(classes)"
   ]
  },
  {
   "cell_type": "code",
   "execution_count": 25,
   "id": "89e6dd3e-2439-40d5-a163-51aaefe5641d",
   "metadata": {},
   "outputs": [
    {
     "data": {
      "text/plain": [
       "'bird'"
      ]
     },
     "execution_count": 25,
     "metadata": {},
     "output_type": "execute_result"
    }
   ],
   "source": [
    "classes[2]"
   ]
  },
  {
   "cell_type": "code",
   "execution_count": 2,
   "id": "deb27fa1-ea1f-4bbd-80d4-defe9164c122",
   "metadata": {},
   "outputs": [],
   "source": [
    "import numpy as np"
   ]
  },
  {
   "cell_type": "code",
   "execution_count": 3,
   "id": "56a84335-6358-4305-ad1b-4e82ba97e2c0",
   "metadata": {},
   "outputs": [
    {
     "data": {
      "text/plain": [
       "array([-0.08305928, -0.62077691, -0.40224807,  0.61294595])"
      ]
     },
     "execution_count": 3,
     "metadata": {},
     "output_type": "execute_result"
    }
   ],
   "source": [
    "n_features = 4\n",
    "np.random.normal(scale=1/n_features**.5, size=n_features)"
   ]
  },
  {
   "cell_type": "code",
   "execution_count": 4,
   "id": "45f80f49-24f3-4463-8a53-4e0d6a38fe53",
   "metadata": {},
   "outputs": [
    {
     "name": "stdout",
     "output_type": "stream",
     "text": [
      "[-1.07134073  0.48194186  0.18266239  0.38304843]\n",
      "[0.72567813 0.14446887 0.06506024 0.31680163]\n",
      "-0.5745885159065658\n"
     ]
    }
   ],
   "source": [
    "w = np.random.normal(scale=1/n_features**.5, size=n_features)\n",
    "i = np.random.normal(scale=1/n_features**.5, size=n_features)\n",
    "print(w)\n",
    "print(i)\n",
    "x = np.dot(w, i)\n",
    "print(x)"
   ]
  },
  {
   "cell_type": "code",
   "execution_count": null,
   "id": "ffeb925b-79c1-4689-8276-c81c6fca3f19",
   "metadata": {},
   "outputs": [],
   "source": []
  }
 ],
 "metadata": {
  "kernelspec": {
   "display_name": "Python 3 (ipykernel)",
   "language": "python",
   "name": "python3"
  },
  "language_info": {
   "codemirror_mode": {
    "name": "ipython",
    "version": 3
   },
   "file_extension": ".py",
   "mimetype": "text/x-python",
   "name": "python",
   "nbconvert_exporter": "python",
   "pygments_lexer": "ipython3",
   "version": "3.8.5"
  }
 },
 "nbformat": 4,
 "nbformat_minor": 5
}
