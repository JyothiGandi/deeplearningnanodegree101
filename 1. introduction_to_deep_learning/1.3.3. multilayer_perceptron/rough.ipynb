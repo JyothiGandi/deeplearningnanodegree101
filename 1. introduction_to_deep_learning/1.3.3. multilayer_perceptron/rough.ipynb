{
 "cells": [
  {
   "cell_type": "code",
   "execution_count": 4,
   "id": "c89b321e-b1e1-466f-8e60-19a1de915959",
   "metadata": {},
   "outputs": [],
   "source": [
    "import torch\n",
    "import numpy as np"
   ]
  },
  {
   "cell_type": "code",
   "execution_count": null,
   "id": "66360ca3-81f4-44cd-a9a7-03a308379f35",
   "metadata": {},
   "outputs": [],
   "source": [
    "features_raw = [[1,2], [3,4]]"
   ]
  },
  {
   "cell_type": "code",
   "execution_count": null,
   "id": "0f576ed0-417e-40dd-9d55-b2c5d2b9708f",
   "metadata": {},
   "outputs": [],
   "source": [
    "features = torch.tensor(features_raw)"
   ]
  },
  {
   "cell_type": "code",
   "execution_count": null,
   "id": "afc8392b-4fd8-4666-9ca4-fbfa88b03e02",
   "metadata": {},
   "outputs": [
    {
     "data": {
      "text/plain": [
       "tensor([[1, 2],\n",
       "        [3, 4]])"
      ]
     },
     "execution_count": 20,
     "metadata": {},
     "output_type": "execute_result"
    }
   ],
   "source": [
    "features"
   ]
  },
  {
   "cell_type": "code",
   "execution_count": null,
   "id": "3b38ea53-ef50-4e79-9e16-5648b24cc729",
   "metadata": {},
   "outputs": [
    {
     "data": {
      "text/plain": [
       "torch.Size([2, 2])"
      ]
     },
     "execution_count": 21,
     "metadata": {},
     "output_type": "execute_result"
    }
   ],
   "source": [
    "features.shape"
   ]
  },
  {
   "cell_type": "code",
   "execution_count": null,
   "id": "61aef83e-46e9-4804-91ac-9779e4dc0e2e",
   "metadata": {},
   "outputs": [],
   "source": [
    "n_records, n_inputs = features.shape"
   ]
  },
  {
   "cell_type": "code",
   "execution_count": null,
   "id": "a1208f86-f5af-46c7-8a8d-ba3c519fcb9f",
   "metadata": {},
   "outputs": [],
   "source": [
    "n_hidden = 2"
   ]
  },
  {
   "cell_type": "code",
   "execution_count": null,
   "id": "b492eb03-46f6-462f-a35f-02f0d30b56db",
   "metadata": {},
   "outputs": [],
   "source": [
    "weights_input_to_hidden = np.random.normal(0, n_inputs**-0.5, size=(n_inputs, n_hidden))"
   ]
  },
  {
   "cell_type": "code",
   "execution_count": null,
   "id": "44c8df0f-edec-4780-86fa-75c37f82039b",
   "metadata": {},
   "outputs": [
    {
     "data": {
      "text/plain": [
       "array([[-0.1605675 , -0.1682594 ],\n",
       "       [ 0.72074157,  0.97743627]])"
      ]
     },
     "execution_count": 27,
     "metadata": {},
     "output_type": "execute_result"
    }
   ],
   "source": [
    "weights_input_to_hidden"
   ]
  },
  {
   "cell_type": "code",
   "execution_count": null,
   "id": "5fbc758f-e38e-4516-8698-0289f2b73113",
   "metadata": {},
   "outputs": [],
   "source": [
    "hidden_inputs = np.dot(weights_input_to_hidden, features)"
   ]
  },
  {
   "cell_type": "code",
   "execution_count": null,
   "id": "9bc2939a-84a5-44c2-84ba-1eeb23e1006f",
   "metadata": {},
   "outputs": [
    {
     "data": {
      "text/plain": [
       "array([[-0.66534571, -0.9941726 ],\n",
       "       [ 3.65305038,  5.35122823]])"
      ]
     },
     "execution_count": 35,
     "metadata": {},
     "output_type": "execute_result"
    }
   ],
   "source": [
    "hidden_inputs"
   ]
  },
  {
   "cell_type": "code",
   "execution_count": null,
   "id": "bc5686bd-a175-44eb-80bc-75850a334cb7",
   "metadata": {},
   "outputs": [
    {
     "data": {
      "text/plain": [
       "array([12, 15, 18])"
      ]
     },
     "execution_count": 42,
     "metadata": {},
     "output_type": "execute_result"
    }
   ],
   "source": [
    "np.dot([1,2], [[4, 5, 6], [4, 5, 6]])"
   ]
  },
  {
   "cell_type": "code",
   "execution_count": null,
   "id": "5e532844-51a8-48bf-bf2a-657be4caefb1",
   "metadata": {},
   "outputs": [
    {
     "data": {
      "text/plain": [
       "array([32, 32])"
      ]
     },
     "execution_count": 43,
     "metadata": {},
     "output_type": "execute_result"
    }
   ],
   "source": [
    "np.dot([[4, 5, 6], [4, 5, 6]], [1, 2, 3])"
   ]
  },
  {
   "cell_type": "code",
   "execution_count": null,
   "id": "12a3d408-2df7-4697-83ae-fb480e6468fa",
   "metadata": {},
   "outputs": [
    {
     "name": "stdout",
     "output_type": "stream",
     "text": [
      "[ 0.49671415 -0.1382643   0.64768854]\n",
      "[ 0.49671415 -0.1382643   0.64768854]\n"
     ]
    },
    {
     "data": {
      "text/plain": [
       "array([[ 0.49671415],\n",
       "       [-0.1382643 ],\n",
       "       [ 0.64768854]])"
      ]
     },
     "execution_count": 50,
     "metadata": {},
     "output_type": "execute_result"
    }
   ],
   "source": [
    "features = np.array([ 0.49671415, -0.1382643 ,  0.64768854])\n",
    "print(features)\n",
    "print(features.T)\n",
    "features[:, None]"
   ]
  },
  {
   "cell_type": "code",
   "execution_count": null,
   "id": "db9173c0-75f3-4802-9f5c-dcb17b19961e",
   "metadata": {},
   "outputs": [
    {
     "name": "stdout",
     "output_type": "stream",
     "text": [
      "[[ 0.49671415 -0.1382643   0.64768854]]\n"
     ]
    },
    {
     "data": {
      "text/plain": [
       "array([[ 0.49671415],\n",
       "       [-0.1382643 ],\n",
       "       [ 0.64768854]])"
      ]
     },
     "execution_count": 53,
     "metadata": {},
     "output_type": "execute_result"
    }
   ],
   "source": [
    "print(np.array(features, ndmin=2))\n",
    "np.array(features, ndmin=2).T"
   ]
  },
  {
   "cell_type": "code",
   "execution_count": null,
   "id": "35edab84-b34c-441d-b077-dd0178db8b61",
   "metadata": {},
   "outputs": [],
   "source": [
    "np.random.seed(42)"
   ]
  },
  {
   "cell_type": "code",
   "execution_count": null,
   "id": "1604a1c3-182d-435e-8d7c-2b796aa70fe9",
   "metadata": {},
   "outputs": [
    {
     "data": {
      "text/plain": [
       "array([ 0.49671415, -0.1382643 ,  0.64768854,  1.52302986])"
      ]
     },
     "execution_count": 55,
     "metadata": {},
     "output_type": "execute_result"
    }
   ],
   "source": [
    "np.random.randn(4)"
   ]
  },
  {
   "cell_type": "code",
   "execution_count": null,
   "id": "8d67cc37-7ef7-4580-a2b9-6a3737ffdfe5",
   "metadata": {},
   "outputs": [],
   "source": [
    "# Network size\n",
    "N_input = 4\n",
    "N_hidden = 3\n",
    "N_output = 2\n",
    "\n",
    "np.random.seed(42)\n",
    "# Make some fake data\n",
    "X = np.random.randn(4)\n",
    "\n",
    "weights_input_to_hidden = np.random.normal(0, scale=0.1, size=(N_input, N_hidden))\n",
    "weights_hidden_to_output = np.random.normal(0, scale=0.1, size=(N_hidden, N_output))"
   ]
  },
  {
   "cell_type": "code",
   "execution_count": null,
   "id": "5efae36b-30d2-4148-84bc-770981bfdcb2",
   "metadata": {},
   "outputs": [
    {
     "data": {
      "text/plain": [
       "array([[-0.02341534, -0.0234137 ,  0.15792128],\n",
       "       [ 0.07674347, -0.04694744,  0.054256  ],\n",
       "       [-0.04634177, -0.04657298,  0.02419623],\n",
       "       [-0.19132802, -0.17249178, -0.05622875]])"
      ]
     },
     "execution_count": 57,
     "metadata": {},
     "output_type": "execute_result"
    }
   ],
   "source": [
    "weights_input_to_hidden"
   ]
  },
  {
   "cell_type": "code",
   "execution_count": null,
   "id": "a930867f-021d-4c15-84c8-9040f5d05410",
   "metadata": {},
   "outputs": [
    {
     "data": {
      "text/plain": [
       "array([[-0.10128311,  0.03142473],\n",
       "       [-0.09080241, -0.14123037],\n",
       "       [ 0.14656488, -0.02257763]])"
      ]
     },
     "execution_count": 58,
     "metadata": {},
     "output_type": "execute_result"
    }
   ],
   "source": [
    "weights_hidden_to_output"
   ]
  },
  {
   "cell_type": "code",
   "execution_count": null,
   "id": "ebe2d80d-1dcc-4ccf-a7e2-e00592f2d85c",
   "metadata": {},
   "outputs": [
    {
     "data": {
      "text/plain": [
       "array([ 0.49671415, -0.1382643 ,  0.64768854,  1.52302986])"
      ]
     },
     "execution_count": 59,
     "metadata": {},
     "output_type": "execute_result"
    }
   ],
   "source": [
    "X"
   ]
  },
  {
   "cell_type": "code",
   "execution_count": null,
   "id": "56d0d94a-be75-4783-b231-f2bc251c96a2",
   "metadata": {},
   "outputs": [
    {
     "data": {
      "text/plain": [
       "array([12, 30, 10])"
      ]
     },
     "execution_count": 71,
     "metadata": {},
     "output_type": "execute_result"
    }
   ],
   "source": [
    "np.dot([1,2, 3, 4], [\n",
    "                [1, 3,1], \n",
    "                [2, 3, 1],\n",
    "    [1,3, 1],\n",
    "    [1,3, 1]\n",
    "              ])"
   ]
  },
  {
   "cell_type": "code",
   "execution_count": null,
   "id": "aaca03ac-2bf6-4258-9032-3b2d2443189e",
   "metadata": {},
   "outputs": [
    {
     "data": {
      "text/plain": [
       "array([-0.34365494, -0.29801368,  0.00097362])"
      ]
     },
     "execution_count": 64,
     "metadata": {},
     "output_type": "execute_result"
    }
   ],
   "source": [
    "np.dot(X, weights_input_to_hidden)"
   ]
  },
  {
   "cell_type": "code",
   "execution_count": null,
   "id": "6ed32040-70b1-49e2-a335-d2a347af8b50",
   "metadata": {},
   "outputs": [],
   "source": [
    "def sigmoid(x):\n",
    "    \"\"\"\n",
    "    Calculate sigmoid\n",
    "    \"\"\"\n",
    "    return 1/(1+np.exp(-x))"
   ]
  },
  {
   "cell_type": "code",
   "execution_count": null,
   "id": "e0cf1595-792c-48d7-b113-cb3047de3eda",
   "metadata": {},
   "outputs": [
    {
     "data": {
      "text/plain": [
       "array([0.41492192, 0.42604313, 0.5002434 ])"
      ]
     },
     "execution_count": 66,
     "metadata": {},
     "output_type": "execute_result"
    }
   ],
   "source": [
    "sigmoid(np.dot(X, weights_input_to_hidden))"
   ]
  },
  {
   "cell_type": "code",
   "execution_count": null,
   "id": "85369eef-a58e-4d22-a366-2f6bbeb4dabc",
   "metadata": {},
   "outputs": [
    {
     "data": {
      "text/plain": [
       "array([ 7, 14])"
      ]
     },
     "execution_count": 67,
     "metadata": {},
     "output_type": "execute_result"
    }
   ],
   "source": [
    "np.dot([1,2,4], [[1,2],[1,2],[1,2]])"
   ]
  },
  {
   "cell_type": "code",
   "execution_count": 5,
   "id": "a0a36065-179d-4803-98fb-90459267d197",
   "metadata": {},
   "outputs": [],
   "source": [
    "def sigmoid(x):\n",
    "    \"\"\"\n",
    "    Calculate sigmoid\n",
    "    \"\"\"\n",
    "    return 1/(1+np.exp(-x))"
   ]
  },
  {
   "cell_type": "code",
   "execution_count": 6,
   "id": "d3dd05fa-7ba5-4de3-8801-612170774368",
   "metadata": {},
   "outputs": [
    {
     "data": {
      "text/plain": [
       "0.9168273035060777"
      ]
     },
     "execution_count": 6,
     "metadata": {},
     "output_type": "execute_result"
    }
   ],
   "source": [
    "sigmoid(2.4)"
   ]
  },
  {
   "cell_type": "code",
   "execution_count": 7,
   "id": "793fce87-4a82-4690-bfd9-05ebe42e6655",
   "metadata": {},
   "outputs": [
    {
     "data": {
      "text/plain": [
       "0.8807970779778823"
      ]
     },
     "execution_count": 7,
     "metadata": {},
     "output_type": "execute_result"
    }
   ],
   "source": [
    "sigmoid(2)"
   ]
  },
  {
   "cell_type": "code",
   "execution_count": 8,
   "id": "085685f3-4dc9-4ad9-8404-f5f1860c19ac",
   "metadata": {},
   "outputs": [
    {
     "data": {
      "text/plain": [
       "0.8021838885585817"
      ]
     },
     "execution_count": 8,
     "metadata": {},
     "output_type": "execute_result"
    }
   ],
   "source": [
    "sigmoid(1.4)"
   ]
  },
  {
   "cell_type": "code",
   "execution_count": null,
   "id": "8f8b859c-652f-457b-98f1-00f7c8bfac43",
   "metadata": {},
   "outputs": [],
   "source": []
  }
 ],
 "metadata": {
  "kernelspec": {
   "display_name": "Python 3 (ipykernel)",
   "language": "python",
   "name": "python3"
  },
  "language_info": {
   "codemirror_mode": {
    "name": "ipython",
    "version": 3
   },
   "file_extension": ".py",
   "mimetype": "text/x-python",
   "name": "python",
   "nbconvert_exporter": "python",
   "pygments_lexer": "ipython3",
   "version": "3.8.5"
  }
 },
 "nbformat": 4,
 "nbformat_minor": 5
}
