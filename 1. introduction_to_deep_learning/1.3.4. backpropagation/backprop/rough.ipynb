{
 "cells": [
  {
   "cell_type": "code",
   "execution_count": 2,
   "id": "7d99488e-7bc7-45fd-8c41-a82db3f72f92",
   "metadata": {},
   "outputs": [
    {
     "name": "stdout",
     "output_type": "stream",
     "text": [
      "[ 0.24 -0.46] [0.55971365 0.38698582]\n",
      "-0.06012438223148006 0.48497343084992534\n"
     ]
    }
   ],
   "source": [
    "import numpy as np\n",
    "\n",
    "\n",
    "def sigmoid(x):\n",
    "    \"\"\"\n",
    "    Calculate sigmoid\n",
    "    \"\"\"\n",
    "    return 1 / (1 + np.exp(-x))\n",
    " \n",
    "\n",
    "x = np.array([0.5, 0.1, -0.2])\n",
    "target = 0.6\n",
    "learnrate = 0.5 \n",
    " \n",
    "weights_input_hidden = np.array([[0.5, -0.6],\n",
    "                                 [0.1, -0.2],\n",
    "                                 [0.1, 0.7]])\n",
    "\n",
    "weights_hidden_output = np.array([0.1, -0.3])\n",
    "\n",
    "## Forward pass\n",
    "hidden_layer_input = np.dot(x, weights_input_hidden)\n",
    "hidden_layer_output = sigmoid(hidden_layer_input)\n",
    "print(hidden_layer_input, hidden_layer_output)\n",
    " \n",
    "output_layer_in = np.dot(hidden_layer_output, weights_hidden_output)\n",
    "output = sigmoid(output_layer_in)\n",
    "print(output_layer_in, output) "
   ]
  },
  {
   "cell_type": "code",
   "execution_count": 16,
   "id": "247cbb7c-dcd7-431f-9db9-7327dd933cbc",
   "metadata": {},
   "outputs": [
    {
     "name": "stdout",
     "output_type": "stream",
     "text": [
      "0.11502656915007464 0.028730669543515018 [ 0.00070802 -0.00204471]\n"
     ]
    }
   ],
   "source": [
    "error = target - output\n",
    "output_error_term = error * output * (1 - output)\n",
    "hidden_error_term = np.dot(output_error_term, weights_hidden_output) * hidden_layer_output * (1 - hidden_layer_output)\n",
    "print(error, output_error_term, hidden_error_term)"
   ]
  },
  {
   "cell_type": "code",
   "execution_count": 17,
   "id": "ff2eafb7-273e-4cd7-946b-d7895b52763f",
   "metadata": {},
   "outputs": [
    {
     "data": {
      "text/plain": [
       "array([0.00804047, 0.00555918])"
      ]
     },
     "execution_count": 17,
     "metadata": {},
     "output_type": "execute_result"
    }
   ],
   "source": [
    "learnrate * output_error_term * hidden_layer_output"
   ]
  },
  {
   "cell_type": "code",
   "execution_count": 18,
   "id": "2e9a174a-8a83-4534-8514-743c664a9d0d",
   "metadata": {},
   "outputs": [
    {
     "data": {
      "text/plain": [
       "array([[ 1.77005547e-04, -5.11178506e-04],\n",
       "       [ 3.54011093e-05, -1.02235701e-04],\n",
       "       [-7.08022187e-05,  2.04471402e-04]])"
      ]
     },
     "execution_count": 18,
     "metadata": {},
     "output_type": "execute_result"
    }
   ],
   "source": [
    "learnrate * hidden_error_term * x[:, None]"
   ]
  },
  {
   "cell_type": "code",
   "execution_count": 19,
   "id": "edda2053-33d8-431d-b774-8381cf1a7576",
   "metadata": {},
   "outputs": [
    {
     "data": {
      "text/plain": [
       "array([[ 0.5],\n",
       "       [ 0.1],\n",
       "       [-0.2]])"
      ]
     },
     "execution_count": 19,
     "metadata": {},
     "output_type": "execute_result"
    }
   ],
   "source": [
    "x[:, None]"
   ]
  },
  {
   "cell_type": "code",
   "execution_count": null,
   "id": "ef30d61b-aeb1-49be-b55b-57c7a99fc58f",
   "metadata": {},
   "outputs": [],
   "source": []
  }
 ],
 "metadata": {
  "kernelspec": {
   "display_name": "Python 3 (ipykernel)",
   "language": "python",
   "name": "python3"
  },
  "language_info": {
   "codemirror_mode": {
    "name": "ipython",
    "version": 3
   },
   "file_extension": ".py",
   "mimetype": "text/x-python",
   "name": "python",
   "nbconvert_exporter": "python",
   "pygments_lexer": "ipython3",
   "version": "3.8.5"
  }
 },
 "nbformat": 4,
 "nbformat_minor": 5
}
