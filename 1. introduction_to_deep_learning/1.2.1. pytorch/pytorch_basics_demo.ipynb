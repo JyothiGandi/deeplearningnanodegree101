{
 "cells": [
  {
   "cell_type": "code",
   "execution_count": 3,
   "id": "8bb021e2-ea4c-4706-a123-84dfcb107d2b",
   "metadata": {},
   "outputs": [],
   "source": [
    "import torch\n",
    "import numpy as np"
   ]
  },
  {
   "cell_type": "code",
   "execution_count": 4,
   "id": "e1224441-dfc4-467e-91f0-b211a1e11437",
   "metadata": {},
   "outputs": [
    {
     "name": "stdout",
     "output_type": "stream",
     "text": [
      "tensor([[1, 2],\n",
      "        [3, 4]]) <class 'torch.Tensor'>\n"
     ]
    }
   ],
   "source": [
    "data = [[1, 2], [3, 4]]\n",
    "data_tensor = torch.tensor(data)\n",
    "print(data_tensor, type(data_tensor))"
   ]
  },
  {
   "cell_type": "code",
   "execution_count": 13,
   "id": "dbbceb83-b6b4-4f2b-99df-81f3da450707",
   "metadata": {},
   "outputs": [
    {
     "name": "stdout",
     "output_type": "stream",
     "text": [
      "[[1 2]\n",
      " [3 4]\n",
      " [5 6]] <class 'numpy.ndarray'>\n",
      "tensor([[1, 2],\n",
      "        [3, 4],\n",
      "        [5, 6]]) <class 'torch.Tensor'> torch.Size([3, 2])\n"
     ]
    }
   ],
   "source": [
    "data = [[1, 2], [3, 4], [5, 6]]\n",
    "np_data = np.array(data)\n",
    "print(np_data, type(np_data))\n",
    "np_data_tensor = torch.from_numpy(np_data)\n",
    "print(np_data_tensor, type(np_data_tensor), np_data_tensor.shape)"
   ]
  },
  {
   "cell_type": "code",
   "execution_count": 6,
   "id": "48746d53-82a1-47a8-8626-8f40c60ef405",
   "metadata": {},
   "outputs": [
    {
     "data": {
      "text/plain": [
       "tensor([0., 0., 0., 0., 0.])"
      ]
     },
     "execution_count": 6,
     "metadata": {},
     "output_type": "execute_result"
    }
   ],
   "source": [
    "torch.zeros(5)"
   ]
  },
  {
   "cell_type": "code",
   "execution_count": 7,
   "id": "3b551f3e-9a9c-4f30-9d18-cab64b24f627",
   "metadata": {},
   "outputs": [
    {
     "data": {
      "text/plain": [
       "tensor([[1., 1., 1.],\n",
       "        [1., 1., 1.]])"
      ]
     },
     "execution_count": 7,
     "metadata": {},
     "output_type": "execute_result"
    }
   ],
   "source": [
    "torch.ones(2, 3)"
   ]
  },
  {
   "cell_type": "code",
   "execution_count": 12,
   "id": "5805ab97-14a5-453d-b3bb-5c05700a3432",
   "metadata": {},
   "outputs": [
    {
     "data": {
      "text/plain": [
       "tensor([[0.1415, 0.3732, 0.5174, 0.1156, 0.7069],\n",
       "        [0.6161, 0.4621, 0.9341, 0.3098, 0.5485]])"
      ]
     },
     "execution_count": 12,
     "metadata": {},
     "output_type": "execute_result"
    }
   ],
   "source": [
    "torch.rand(2, 5)"
   ]
  },
  {
   "cell_type": "code",
   "execution_count": 18,
   "id": "77807e97-5b59-41bb-b6e9-b9615b9b01a8",
   "metadata": {},
   "outputs": [
    {
     "data": {
      "text/plain": [
       "tensor([[[0.7923, 0.9017, 0.7377, 0.5393, 0.8338],\n",
       "         [0.0090, 0.7592, 0.3297, 0.3421, 0.6486]]])"
      ]
     },
     "execution_count": 18,
     "metadata": {},
     "output_type": "execute_result"
    }
   ],
   "source": [
    "torch.rand(1, 2, 5)"
   ]
  },
  {
   "cell_type": "code",
   "execution_count": 20,
   "id": "048d550a-06f0-4d68-b2a7-155808d327ac",
   "metadata": {},
   "outputs": [
    {
     "data": {
      "text/plain": [
       "tensor([[1., 1., 1., 1., 1.],\n",
       "        [1., 1., 1., 1., 1.]])"
      ]
     },
     "execution_count": 20,
     "metadata": {},
     "output_type": "execute_result"
    }
   ],
   "source": [
    "x = torch.rand(2, 5)\n",
    "torch.ones_like(x)"
   ]
  },
  {
   "cell_type": "code",
   "execution_count": 21,
   "id": "b6d165e9-5d14-414b-902e-887e95c4b125",
   "metadata": {},
   "outputs": [
    {
     "name": "stdout",
     "output_type": "stream",
     "text": [
      "tensor([[0.0425, 0.2126, 0.3593, 0.6357, 0.2607],\n",
      "        [0.6686, 0.5303, 0.4162, 0.0816, 0.6608]])\n"
     ]
    }
   ],
   "source": [
    "print(x)"
   ]
  },
  {
   "cell_type": "code",
   "execution_count": 22,
   "id": "c2d67668-a76b-4fff-89fc-e0a6a0e5e3e0",
   "metadata": {},
   "outputs": [
    {
     "name": "stdout",
     "output_type": "stream",
     "text": [
      "tensor([[0.0425, 0.2126, 0.3593, 0.6357, 0.2607],\n",
      "        [0.6686, 0.5303, 0.4162, 0.0816, 0.6608]])\n"
     ]
    }
   ],
   "source": [
    "# copy\n",
    "y = x.detach()\n",
    "print(y)"
   ]
  },
  {
   "cell_type": "code",
   "execution_count": 32,
   "id": "dd852602-7109-4264-8383-e786295f64b9",
   "metadata": {},
   "outputs": [
    {
     "data": {
      "text/plain": [
       "tensor([3.0425, 3.2126, 3.3593, 3.6357, 3.2607])"
      ]
     },
     "execution_count": 32,
     "metadata": {},
     "output_type": "execute_result"
    }
   ],
   "source": [
    "# index 0 row\n",
    "x[0, :] + 3"
   ]
  },
  {
   "cell_type": "code",
   "execution_count": 30,
   "id": "83e18da9-0267-4744-8ed3-58f2e1d6e975",
   "metadata": {},
   "outputs": [
    {
     "data": {
      "text/plain": [
       "tensor([1.2607, 1.6608])"
      ]
     },
     "execution_count": 30,
     "metadata": {},
     "output_type": "execute_result"
    }
   ],
   "source": [
    "# index 4 column\n",
    "x[:, 4] + 1"
   ]
  },
  {
   "cell_type": "code",
   "execution_count": 34,
   "id": "586b62e0-ccdc-458b-ae38-fa6cde2fae17",
   "metadata": {},
   "outputs": [
    {
     "name": "stdout",
     "output_type": "stream",
     "text": [
      "tensor([0.6648, 0.0182]) tensor([0.4775, 0.7089])\n"
     ]
    },
    {
     "data": {
      "text/plain": [
       "tensor(0.3304)"
      ]
     },
     "execution_count": 34,
     "metadata": {},
     "output_type": "execute_result"
    }
   ],
   "source": [
    "rand1 = torch.rand(2)\n",
    "rand2 = torch.rand(2)\n",
    "print(rand1, rand2)\n",
    "torch.matmul(rand1, rand2)"
   ]
  },
  {
   "cell_type": "code",
   "execution_count": 38,
   "id": "6c0fbc1d-83c0-4e26-ac84-1fe4267dd221",
   "metadata": {},
   "outputs": [
    {
     "name": "stdout",
     "output_type": "stream",
     "text": [
      "tensor([[0.4182, 0.2736, 0.1304, 0.8511, 0.1565],\n",
      "        [0.5344, 0.9403, 0.2007, 0.7003, 0.4790]]) tensor([[0.2888, 0.6237],\n",
      "        [0.6239, 0.4405],\n",
      "        [0.3864, 0.2419],\n",
      "        [0.5964, 0.8910],\n",
      "        [0.8762, 0.8779]])\n"
     ]
    },
    {
     "data": {
      "text/plain": [
       "tensor([[0.9866, 1.3086],\n",
       "        [1.6559, 1.8405]])"
      ]
     },
     "execution_count": 38,
     "metadata": {},
     "output_type": "execute_result"
    }
   ],
   "source": [
    "rand1 = torch.rand(2, 5)\n",
    "rand2 = torch.rand(5, 2)\n",
    "print(rand1, rand2)\n",
    "torch.matmul(rand1, rand2)"
   ]
  },
  {
   "cell_type": "code",
   "execution_count": null,
   "id": "b14528ae-bb07-4b07-a8c4-26f8748ea1cf",
   "metadata": {},
   "outputs": [],
   "source": []
  }
 ],
 "metadata": {
  "kernelspec": {
   "display_name": "Python 3 (ipykernel)",
   "language": "python",
   "name": "python3"
  },
  "language_info": {
   "codemirror_mode": {
    "name": "ipython",
    "version": 3
   },
   "file_extension": ".py",
   "mimetype": "text/x-python",
   "name": "python",
   "nbconvert_exporter": "python",
   "pygments_lexer": "ipython3",
   "version": "3.8.5"
  }
 },
 "nbformat": 4,
 "nbformat_minor": 5
}
