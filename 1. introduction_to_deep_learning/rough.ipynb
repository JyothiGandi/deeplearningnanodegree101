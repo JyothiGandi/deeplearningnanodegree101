{
 "cells": [
  {
   "cell_type": "code",
   "execution_count": 2,
   "id": "0e6ce4c4-6c84-457b-82c2-4f426c522588",
   "metadata": {},
   "outputs": [],
   "source": [
    "import torch\n",
    "import numpy as np"
   ]
  },
  {
   "cell_type": "code",
   "execution_count": 14,
   "id": "5e061460-845a-45bc-a273-6dbb65a47bbf",
   "metadata": {},
   "outputs": [
    {
     "name": "stdout",
     "output_type": "stream",
     "text": [
      "[1, 2, 3] [[1, 5], [1, 5], [1, 5]]\n",
      "[ 6 30]\n"
     ]
    }
   ],
   "source": [
    "\"\"\"\n",
    "[x1, x2, x3]\n",
    "[\n",
    "    [w11, w12],\n",
    "    [w21, w22],\n",
    "    [w31, w32],\n",
    "]\n",
    "\n",
    "shapes -> (3) * (3 x 2) -> x * weights\n",
    "\"\"\"\n",
    "x = [1, 2, 3]\n",
    "weights = [ \n",
    "            [1, 5],\n",
    "            [1, 5],\n",
    "            [1, 5],\n",
    "          ]\n",
    "print(x, weights)\n",
    "print(np.dot(x, weights))"
   ]
  },
  {
   "cell_type": "code",
   "execution_count": 16,
   "id": "dfc3d6cc-422f-417b-a7c3-e5518f5b78f8",
   "metadata": {},
   "outputs": [
    {
     "name": "stdout",
     "output_type": "stream",
     "text": [
      "[1, 2, 3] [[1, 1, 1], [5, 5, 5]]\n",
      "[ 6 30]\n"
     ]
    }
   ],
   "source": [
    "\"\"\"\n",
    "[x1, x2, x3]\n",
    "[\n",
    "    [w11, w21, w31],\n",
    "    [w12, w22, w32],\n",
    "]\n",
    "\n",
    "shapes -> (2 x 3) * (3) -> weights * x\n",
    "\"\"\"\n",
    "x = [1, 2, 3]\n",
    "weights = [ \n",
    "            [1, 1, 1],\n",
    "            [5, 5, 5]\n",
    "          ]\n",
    "print(x, weights)\n",
    "print(np.dot(weights, x))"
   ]
  },
  {
   "cell_type": "code",
   "execution_count": 23,
   "id": "38201954-01d0-45dc-a53e-baf42da1209c",
   "metadata": {},
   "outputs": [
    {
     "data": {
      "text/plain": [
       "tensor([[11, 22],\n",
       "        [11, 22],\n",
       "        [11, 22]])"
      ]
     },
     "execution_count": 23,
     "metadata": {},
     "output_type": "execute_result"
    }
   ],
   "source": [
    "# transpose\n",
    "test = [[11, 11, 11], [22, 22, 22]]\n",
    "test_tensor = torch.tensor(test)\n",
    "\n",
    "test_tensor.T"
   ]
  },
  {
   "cell_type": "code",
   "execution_count": 25,
   "id": "cbc4c751-5852-4365-811c-83c85ff0f750",
   "metadata": {},
   "outputs": [
    {
     "data": {
      "text/plain": [
       "tensor([[11],\n",
       "        [11],\n",
       "        [11]])"
      ]
     },
     "execution_count": 25,
     "metadata": {},
     "output_type": "execute_result"
    }
   ],
   "source": [
    "# transpose of 1D\n",
    "test_2 = [11, 11, 11]\n",
    "test_tensor_2 = torch.tensor(test_2)\n",
    "\n",
    "test_tensor_2[:, None]"
   ]
  },
  {
   "cell_type": "code",
   "execution_count": null,
   "id": "356a2c23-88aa-4c6d-966e-fe1e9ab77327",
   "metadata": {},
   "outputs": [],
   "source": []
  }
 ],
 "metadata": {
  "kernelspec": {
   "display_name": "Python 3 (ipykernel)",
   "language": "python",
   "name": "python3"
  },
  "language_info": {
   "codemirror_mode": {
    "name": "ipython",
    "version": 3
   },
   "file_extension": ".py",
   "mimetype": "text/x-python",
   "name": "python",
   "nbconvert_exporter": "python",
   "pygments_lexer": "ipython3",
   "version": "3.8.5"
  }
 },
 "nbformat": 4,
 "nbformat_minor": 5
}
